{
  "nbformat": 4,
  "nbformat_minor": 0,
  "metadata": {
    "colab": {
      "provenance": []
    },
    "kernelspec": {
      "name": "python3",
      "display_name": "Python 3"
    },
    "language_info": {
      "name": "python"
    }
  },
  "cells": [
    {
      "cell_type": "markdown",
      "source": [
        "**REGULA FALSI (POSISI SALAH) Untuk Mencari Akar Persamaan X**"
      ],
      "metadata": {
        "id": "5fov_wXbt3k1"
      }
    },
    {
      "cell_type": "markdown",
      "source": [
        "\n",
        "\n",
        "---\n",
        "\n"
      ],
      "metadata": {
        "id": "-W7WD7omp8oR"
      }
    },
    {
      "cell_type": "code",
      "source": [
        "import sympy as sp\n",
        "import numpy as np\n",
        "\n",
        "def regula_falsi():\n",
        "    print(\"=== METODE REGULA FALSI (FALSE POSITION) ===\")\n",
        "    print(\"Untuk mencari akar persamaan f(x) = 0\")\n",
        "    print()\n",
        "\n",
        "    print(\"Masukkan fungsi f(x) dalam bentuk ekspresi matematika:\")\n",
        "    print(\"Contoh: x**3 + 6*x**2 - 19*x - 84\")\n",
        "    fungsi_str = input(\"f(x) = \")\n",
        "\n",
        "    x = sp.Symbol('x')\n",
        "\n",
        "    try:\n",
        "        fungsi = sp.sympify(fungsi_str)\n",
        "        print(f\"Fungsi yang dimasukkan: f(x) = {fungsi}\")\n",
        "    except:\n",
        "        print(\"Error: Format fungsi tidak valid!\")\n",
        "        return\n",
        "\n",
        "    batas_bawah = float(input(\"Masukkan batas bawah (Xl): \"))\n",
        "    batas_atas = float(input(\"Masukkan batas atas (Xu): \"))\n",
        "    nilai_sebenarnya = float(input(\"Masukkan nilai x sebenarnya: \"))\n",
        "\n",
        "    print(f\"\\nInterval: [{batas_bawah}, {batas_atas}]\")\n",
        "    print(f\"Nilai x sebenarnya: {nilai_sebenarnya}\")\n",
        "    print()\n",
        "\n",
        "    f = sp.lambdify(x, fungsi, 'numpy')\n",
        "\n",
        "    f_bawah = f(batas_bawah)\n",
        "    f_atas = f(batas_atas)\n",
        "\n",
        "    print(f\"f({batas_bawah}) = {round(f_bawah, 2)}\")\n",
        "    print(f\"f({batas_atas}) = {round(f_atas, 2)}\")\n",
        "\n",
        "    print(\"\\nMulai iterasi Posisi Salah...\")\n",
        "    print(\"=\" * 105)\n",
        "    print(f\"{'Iterasi':<8} {'Xl':<10} {'Xu':<10} {'Xr':<12} {'f(Xl)':<12} {'f(Xu)':<12} {'f(Xr)':<12} {'ET (%)':<12} {'EA (%)' :<10}\")\n",
        "    print(\"=\" * 105)\n",
        "\n",
        "    xl = batas_bawah\n",
        "    xu = batas_atas\n",
        "    iterasi = 0\n",
        "    Et = 100\n",
        "    xr_sebelumnya = 0\n",
        "\n",
        "    while Et > 1:\n",
        "        iterasi += 1\n",
        "\n",
        "        f_xl = f(xl)\n",
        "        f_xu = f(xu)\n",
        "\n",
        "        xr = xu - f_xu * (xl - xu) / (f_xl - f_xu)\n",
        "        f_xr = f(xr)\n",
        "        if iterasi == 1:\n",
        "            xr_sebelumnya = xr\n",
        "        Ea = abs((xr - xr_sebelumnya) / xr) * 100\n",
        "        Et = abs((xr - nilai_sebenarnya) / nilai_sebenarnya) * 100\n",
        "\n",
        "        print(f\"{iterasi:<8} {round(xl, 2):<10} {round(xu, 2):<10} {round(xr, 2):<12} {round(f_xl, 2):<12} {round(f_xu, 2):<12} {round(f_xr, 2):<12} {round(Et, 2):<12} {round(Ea, 2):<10}\")\n",
        "\n",
        "        if Et <= 1:\n",
        "            break\n",
        "\n",
        "        # Tentukan interval baru\n",
        "        if f_xl * f_xr < 0:\n",
        "            # Akar berada di interval [xl, xr]\n",
        "            xu = xr\n",
        "        else:\n",
        "            # Akar berada di interval [xr, xu]\n",
        "            xl = xr\n",
        "\n",
        "        # Simpan xr untuk perhitungan error selanjutnya\n",
        "        xr_sebelumnya = xr\n",
        "\n",
        "        # Batasi iterasi maksimum untuk menghindari loop tak terhingga\n",
        "        if iterasi >= 100:\n",
        "            print(\"Peringatan: Mencapai batas maksimum iterasi!\")\n",
        "            break\n",
        "\n",
        "    print(\"=\" * 105)\n",
        "    print(f\"\\nHASIL AKHIR:\")\n",
        "    print(f\"Akar persamaan ditemukan: x = {round(xr, 2)}\")\n",
        "    print(f\"Nilai sebenarnya: x = {nilai_sebenarnya}\")\n",
        "    print(f\"Error true: {round(abs((xr - nilai_sebenarnya)/nilai_sebenarnya)*100, 2)}%\")\n",
        "    print(f\"Error aproximasi: {round(Ea, 2)}%\")\n",
        "if __name__ == \"__main__\":\n",
        "    regula_falsi()"
      ],
      "metadata": {
        "colab": {
          "base_uri": "https://localhost:8080/"
        },
        "id": "M9xs-FmWuBAL",
        "outputId": "bb0f5031-68a3-4f77-bdc0-f5518fcb9841"
      },
      "execution_count": 14,
      "outputs": [
        {
          "output_type": "stream",
          "name": "stdout",
          "text": [
            "=== METODE REGULA FALSI (FALSE POSITION) ===\n",
            "Untuk mencari akar persamaan f(x) = 0\n",
            "\n",
            "Masukkan fungsi f(x) dalam bentuk ekspresi matematika:\n",
            "Contoh: x**3 + 6*x**2 - 19*x - 84\n",
            "f(x) = x**3 + 6*x**2 - 19*x - 84\n",
            "Fungsi yang dimasukkan: f(x) = x**3 + 6*x**2 - 19*x - 84\n",
            "Masukkan batas bawah (Xl): -1\n",
            "Masukkan batas atas (Xu): 8\n",
            "Masukkan nilai x sebenarnya: 4\n",
            "\n",
            "Interval: [-1.0, 8.0]\n",
            "Nilai x sebenarnya: 4.0\n",
            "\n",
            "f(-1.0) = -60.0\n",
            "f(8.0) = 660.0\n",
            "\n",
            "Mulai iterasi Posisi Salah...\n",
            "=========================================================================================================\n",
            "Iterasi  Xl         Xu         Xr           f(Xl)        f(Xu)        f(Xr)        ET (%)       EA (%)    \n",
            "=========================================================================================================\n",
            "1        -1.0       8.0        -0.25        -60.0        660.0        -78.89       106.25       0.0       \n",
            "2        -0.25      8.0        0.63         -78.89       660.0        -93.35       84.23        139.63    \n",
            "3        0.63       8.0        1.54         -93.35       660.0        -95.35       61.4         59.14     \n",
            "4        1.54       8.0        2.36         -95.35       660.0        -82.31       41.03        34.55     \n",
            "5        2.36       8.0        2.98         -82.31       660.0        -60.68       25.39        20.96     \n",
            "6        2.98       8.0        3.41         -60.68       660.0        -39.56       14.83        12.4      \n",
            "7        3.41       8.0        3.67         -39.56       660.0        -23.72       8.34         7.08      \n",
            "8        3.67       8.0        3.82         -23.72       660.0        -13.51       4.58         3.94      \n",
            "9        3.82       8.0        3.9          -13.51       660.0        -7.47        2.48         2.15      \n",
            "10       3.9        8.0        3.95         -7.47        660.0        -4.06        1.34         1.16      \n",
            "11       3.95       8.0        3.97         -4.06        660.0        -2.19        0.72         0.62      \n",
            "=========================================================================================================\n",
            "\n",
            "HASIL AKHIR:\n",
            "Akar persamaan ditemukan: x = 3.97\n",
            "Nilai sebenarnya: x = 4.0\n",
            "Error true: 0.72%\n",
            "Error aproximasi: 0.62%\n"
          ]
        }
      ]
    }
  ]
}